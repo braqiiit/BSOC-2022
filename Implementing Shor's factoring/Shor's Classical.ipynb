{
 "cells": [
  {
   "cell_type": "code",
   "execution_count": null,
   "id": "5be21dfb",
   "metadata": {},
   "outputs": [],
   "source": [
    "# imports\n",
    "\n",
    "import numpy as np\n",
    "import math\n",
    "import random\n",
    "import qiskit\n",
    "import time\n",
    "import matplotlib.pyplot as plt\n",
    "from qiskit.visualization import plot_histogram"
   ]
  },
  {
   "cell_type": "code",
   "execution_count": null,
   "id": "6dab2746",
   "metadata": {},
   "outputs": [],
   "source": [
    "def find_period_classical(a, N):\n",
    "    n = 1\n",
    "    x = a\n",
    "    while (x != 1):\n",
    "        x *= a\n",
    "        x %= N\n",
    "        n += 1\n",
    "    return n"
   ]
  },
  {
   "cell_type": "code",
   "execution_count": null,
   "id": "6dff12f3",
   "metadata": {},
   "outputs": [],
   "source": [
    "def shor(N):\n",
    "\n",
    "    # generate a random number\n",
    "    k= 12000\n",
    "    if N<k:\n",
    "        a= random.randint(2, N-1)\n",
    "    else:\n",
    "        a= random.randint(k-1000, k)\n",
    "#     a = random.randint(2, 10000)\n",
    "    print(f\"Random number generated: {a}\")\n",
    "    \n",
    "    if (math.gcd(a, N) != 1):\n",
    "        return math.gcd(a, N), N/math.gcd(a, N), 1\n",
    "    \n",
    "    t1 = time.time()\n",
    "    \n",
    "    # finding the period of the randomly generated number w.r.t N\n",
    "    r = find_period_classical(a, N)\n",
    "    t2 = time.time()\n",
    "    print(f\"period: {r}, time taken for period finding: {(t2-t1):.6f}\")\n",
    "        \n",
    "    # restart process if the period generated is odd\n",
    "    if (r%2):\n",
    "        return 0, 0, 0\n",
    "    \n",
    "    t3 = time.time()\n",
    "    \n",
    "    # finding x using modular exponentiation\n",
    "    x = pow(a, r//2, N)\n",
    "    t4 = time.time()\n",
    "    print(f\"time taken to calculate X: {(t4-t3):.6f}\")\n",
    "    \n",
    "    if (x == -1):\n",
    "        return 0, 0, 0\n",
    "    \n",
    "    # calculating the factors\n",
    "    p = math.gcd(x+1, N)\n",
    "    t5 = time.time()\n",
    "    print(f\"time taken to calculate p: {(t5-t4):.6f}\")\n",
    "    \n",
    "    q = math.gcd(x-1, N)\n",
    "    t6 = time.time()\n",
    "    print(f\"time taken to calculate q: {(t6-t5):.6f}\")\n",
    "    return p, q, 1"
   ]
  },
  {
   "cell_type": "code",
   "execution_count": null,
   "id": "a343ee30",
   "metadata": {},
   "outputs": [],
   "source": [
    "check=0\n",
    "N = int(input(\"Enter N: \"))\n",
    "\n",
    "if math.pow(N, 0.5)-int(math.pow(N, 0.5))==0:\n",
    "    p= int(math.pow(N, 0.5))\n",
    "    p= q\n",
    "# mp= plt.subplot(1, 1, 1)\n",
    "else:\n",
    "    i=1\n",
    "    while (not check):\n",
    "        print(f\"\\nIteration: {i}\")\n",
    "        p, q, check = shor(N)\n",
    "        i += 1\n",
    "\n",
    "print(f\"factor 1: {int(p)}, factor 2: {int(q)}\")\n"
   ]
  },
  {
   "cell_type": "code",
   "execution_count": null,
   "id": "e2eadbff",
   "metadata": {},
   "outputs": [],
   "source": []
  }
 ],
 "metadata": {
  "kernelspec": {
   "display_name": "Python 3 (ipykernel)",
   "language": "python",
   "name": "python3"
  },
  "language_info": {
   "codemirror_mode": {
    "name": "ipython",
    "version": 3
   },
   "file_extension": ".py",
   "mimetype": "text/x-python",
   "name": "python",
   "nbconvert_exporter": "python",
   "pygments_lexer": "ipython3",
   "version": "3.10.4"
  }
 },
 "nbformat": 4,
 "nbformat_minor": 5
}
