{
 "cells": [
  {
   "cell_type": "code",
   "execution_count": null,
   "id": "adcb3be1",
   "metadata": {},
   "outputs": [],
   "source": [
    "# imports\n",
    "\n",
    "import numpy as np\n",
    "import math\n",
    "import random\n",
    "import qiskit\n",
    "import time\n",
    "from qiskit.visualization import plot_histogram"
   ]
  },
  {
   "cell_type": "code",
   "execution_count": null,
   "id": "bf56ffad",
   "metadata": {},
   "outputs": [],
   "source": [
    "def find_period_classical(a, N):\n",
    "    n = 1\n",
    "    x = a\n",
    "    while (x != 1):\n",
    "        x *= a\n",
    "        x %= N\n",
    "        n += 1\n",
    "    return n"
   ]
  },
  {
   "cell_type": "code",
   "execution_count": null,
   "id": "929a2e9a",
   "metadata": {},
   "outputs": [],
   "source": [
    "def shor(N):\n",
    "\n",
    "    # generate a random number\n",
    "    a = random.randint(2, 12000)\n",
    "    print(f\"Random number generated: {a}\")\n",
    "    \n",
    "    if (math.gcd(a, N) != 1):\n",
    "        return math.gcd(a, N), N/math.gcd(a, N), 1\n",
    "    \n",
    "    t1 = time.time()\n",
    "    \n",
    "    # finding the period of the randomly generated number w.r.t N\n",
    "    r = find_period_classical(a, N)\n",
    "    t2 = time.time()\n",
    "    print(f\"period: {r}, time taken for period finding: {(t2-t1):.6f}\")\n",
    "        \n",
    "    # restart process if the period generated is odd\n",
    "    if (r%2):\n",
    "        return 0, 0, 0\n",
    "    \n",
    "    t3 = time.time()\n",
    "    \n",
    "    # finding x using modular exponentiation\n",
    "    x = pow(a, r//2, N)\n",
    "    t4 = time.time()\n",
    "    print(f\"time taken to calculate X: {(t4-t3):.6f}\")\n",
    "    \n",
    "    if (x == -1):\n",
    "        return 0, 0, 0\n",
    "    \n",
    "    # calculating the factors\n",
    "    p = math.gcd(x+1, N)\n",
    "    t5 = time.time()\n",
    "    print(f\"time taken to calculate p: {(t5-t4):.6f}\")\n",
    "    \n",
    "    q = math.gcd(x-1, N)\n",
    "    t6 = time.time()\n",
    "    print(f\"time taken to calculate q: {(t6-t5):.6f}\")\n",
    "    return p, q, 1\n",
    "\n",
    "check=0\n",
    "N = int(input(\"Enter N: \"))\n",
    "i=1\n",
    "while (not check):\n",
    "    print(f\"\\nIteration: {i}\")\n",
    "    p, q, check = shor(N)\n",
    "    i += 1\n",
    "    \n",
    "print(f\"factor 1: {int(p)}, factor 2: {int(q)}\")"
   ]
  },
  {
   "cell_type": "code",
   "execution_count": null,
   "id": "f5d829a7",
   "metadata": {},
   "outputs": [],
   "source": [
    "# r = find_period_classical(2339761, 24403591, 100091456077)\n",
    "# print(r)\n",
    "# x = 2339761**int(r/2)"
   ]
  },
  {
   "cell_type": "code",
   "execution_count": null,
   "id": "b6fb3aff",
   "metadata": {},
   "outputs": [],
   "source": [
    "# print (x)"
   ]
  },
  {
   "cell_type": "code",
   "execution_count": null,
   "id": "7e1a4345",
   "metadata": {},
   "outputs": [],
   "source": []
  }
 ],
 "metadata": {
  "kernelspec": {
   "display_name": "Python 3 (ipykernel)",
   "language": "python",
   "name": "python3"
  },
  "language_info": {
   "codemirror_mode": {
    "name": "ipython",
    "version": 3
   },
   "file_extension": ".py",
   "mimetype": "text/x-python",
   "name": "python",
   "nbconvert_exporter": "python",
   "pygments_lexer": "ipython3",
   "version": "3.9.12"
  }
 },
 "nbformat": 4,
 "nbformat_minor": 5
}
