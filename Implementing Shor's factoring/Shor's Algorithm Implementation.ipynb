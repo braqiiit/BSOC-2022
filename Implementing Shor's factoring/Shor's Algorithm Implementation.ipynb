{
 "cells": [
  {
   "cell_type": "code",
   "execution_count": null,
   "id": "adcb3be1",
   "metadata": {},
   "outputs": [],
   "source": [
    "# imports\n",
    "\n",
    "import numpy as np\n",
    "import math\n",
    "import random\n",
    "import qiskit\n",
    "import time\n",
    "from qiskit.visualization import plot_histogram"
   ]
  },
  {
   "cell_type": "code",
   "execution_count": null,
   "id": "bf56ffad",
   "metadata": {},
   "outputs": [],
   "source": [
    "def find_period_classical(a, N):\n",
    "    n = 1\n",
    "    x = a\n",
    "    while (x != 1):\n",
    "        x *= a\n",
    "        x %= N\n",
    "        n += 1\n",
    "    return n"
   ]
  },
  {
   "cell_type": "code",
   "execution_count": null,
   "id": "929a2e9a",
   "metadata": {},
   "outputs": [],
   "source": [
    "def shor(N):\n",
    "    \n",
    "    # generate a random number\n",
    "    a = random.randint(2, N)\n",
    "    print(f\"Random number generated: {a}\")\n",
    "    \n",
    "    if (math.gcd(a, N) != 1):\n",
    "        return math.gcd(a, N), N/math.gcd(a, N), 1\n",
    "    \n",
    "    # start time \n",
    "    t1 = time.time()\n",
    "    \n",
    "    # finding the period of the randomly generated number w.r.t N\n",
    "    r = find_period_classical(a, N)\n",
    "    # keep generating the period till it is even\n",
    "    while (r%2):\n",
    "        r = find_period_classical(a, N)\n",
    "    \n",
    "    #end time\n",
    "    t2 = time.time()\n",
    "    print(f\"period: {r}, time taken: {(t2-t1):.6f}\")\n",
    "    \n",
    "    # finding x\n",
    "    x = a**int(r/2)\n",
    "    if (not((x+1)%N)):\n",
    "        return 0, 0, 0\n",
    "    \n",
    "    # calculating the factors\n",
    "    p = math.gcd(x+1, N)\n",
    "    q = math.gcd(x-1, N)\n",
    "    return p, q, 1\n",
    "\n",
    "check=0\n",
    "N = int(input(\"Enter N: \"))\n",
    "i=1\n",
    "while (not check):\n",
    "    print(f\"\\nIteration: {i}\")\n",
    "    p, q, check = shor(N)\n",
    "    i += 1\n",
    "    \n",
    "print(f\"factor 1: {int(p)}, factor 2: {int(q)}\")"
   ]
  }
 ],
 "metadata": {
  "kernelspec": {
   "display_name": "Python 3 (ipykernel)",
   "language": "python",
   "name": "python3"
  },
  "language_info": {
   "codemirror_mode": {
    "name": "ipython",
    "version": 3
   },
   "file_extension": ".py",
   "mimetype": "text/x-python",
   "name": "python",
   "nbconvert_exporter": "python",
   "pygments_lexer": "ipython3",
   "version": "3.9.12"
  }
 },
 "nbformat": 4,
 "nbformat_minor": 5
}
